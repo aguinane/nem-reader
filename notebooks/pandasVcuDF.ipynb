{
 "cells": [
  {
   "cell_type": "markdown",
   "metadata": {},
   "source": [
    "# Pandas vs Nvidia cuDF\n",
    "This is a demonstration of the performance gain of using Nvidia's cuDF in GPU library instead of the Pandas in Memory library. A server these days has a maximum limit of [192](https://www.amd.com/en/products/processors/server/epyc/9005-series/amd-epyc-9965.html) processing cores vs Nvidia GPU core counts of 20,000+ for the [H200](https://www.nvidia.com/en-us/data-center/h200/) card. As the business problem of predicting electricity supply demand requires low latency and faster execution times GPU based solutions can offer up to 1000 times the performance of CPU based solutions with specific cores designed for vecctor operatons and complex linear algebra matrix multiplication and addition/subtraction. \n",
    "\n",
    "## Demo system\n",
    "The demo below is based on the A2000 Ampere Card the lowest end Enterprise card available with only 3328 cores with 12GB of GDDR6 VRAM. The code base is being used by organisations like Powercor CitiPower and Ampol.\n",
    "\n",
    "## cuDF\n",
    "The cuDF library uses identical commands and API's to Pandas so python code is interchangeable. cuDF also offers a high performance c++ API that can also run in [Bluefield 3](https://www.nvidia.com/content/dam/en-zz/Solutions/Data-Center/documents/datasheet-nvidia-bluefield-3-dpu.pdf) DPU (Data Processing Unit) Network cards terminating some functions at the network leaving more capacity for GPU and CPU operations. Using [GPUDirect](https://docs.nvidia.com/gpudirect-storage/index.html)  functions the system can also bypass or accelerate Disk and Memory bottlenecks.\n",
    "\n",
    "## Demo results\n",
    "As you can see executing basic operations using Pandas (df) and cuDF(cf) show greater performance using the GPU to manimpulate matrix operations showing 33% of the time for load and 13.45% of the compute time. When using Advance cards like the H200 card expect 1000 fold performance gains"
   ]
  },
  {
   "cell_type": "code",
   "execution_count": 12,
   "metadata": {},
   "outputs": [
    {
     "name": "stdout",
     "output_type": "stream",
     "text": [
      "Wed Jan 22 15:50:32 2025       \n",
      "+-----------------------------------------------------------------------------------------+\n",
      "| NVIDIA-SMI 565.57.02              Driver Version: 566.03         CUDA Version: 12.7     |\n",
      "|-----------------------------------------+------------------------+----------------------+\n",
      "| GPU  Name                 Persistence-M | Bus-Id          Disp.A | Volatile Uncorr. ECC |\n",
      "| Fan  Temp   Perf          Pwr:Usage/Cap |           Memory-Usage | GPU-Util  Compute M. |\n",
      "|                                         |                        |               MIG M. |\n",
      "|=========================================+========================+======================|\n",
      "|   0  NVIDIA RTX A2000 12GB          On  |   00000000:D8:00.0  On |                    0 |\n",
      "| 30%   40C    P8             10W /   70W |    1781MiB /  11514MiB |      7%      Default |\n",
      "|                                         |                        |                  N/A |\n",
      "+-----------------------------------------+------------------------+----------------------+\n",
      "                                                                                         \n",
      "+-----------------------------------------------------------------------------------------+\n",
      "| Processes:                                                                              |\n",
      "|  GPU   GI   CI        PID   Type   Process name                              GPU Memory |\n",
      "|        ID   ID                                                               Usage      |\n",
      "|=========================================================================================|\n",
      "|    0   N/A  N/A        24      G   /Xwayland                                   N/A      |\n",
      "+-----------------------------------------------------------------------------------------+\n"
     ]
    }
   ],
   "source": [
    "!nvidia-smi"
   ]
  },
  {
   "cell_type": "code",
   "execution_count": 1,
   "metadata": {},
   "outputs": [],
   "source": [
    "import cudf as cf\n",
    "import pandas as df"
   ]
  },
  {
   "cell_type": "code",
   "execution_count": 2,
   "metadata": {},
   "outputs": [
    {
     "name": "stdout",
     "output_type": "stream",
     "text": [
      "/home/mctouch/anaconda3/envs/nem-reader/lib/python3.12/site-packages/nemreader/outputs.py:74: FutureWarning: Series.__getitem__ treating keys as positions is deprecated. In a future version, integer keys will always be treated as labels (consistent with DataFrame behavior). To access a value by position, use `ser.iloc[pos]`\n",
      "  last_date = nmi_df.iloc[-1][1].strftime(\"%Y%m%d\")\n",
      "Created NEM1201006_20040305_transposed.csv\n"
     ]
    }
   ],
   "source": [
    "!nemreader output-csv \"examples/nem12/nem12#S01#INTEGM#NEMMCO.zip\"\n"
   ]
  },
  {
   "cell_type": "code",
   "execution_count": 3,
   "metadata": {},
   "outputs": [
    {
     "name": "stdout",
     "output_type": "stream",
     "text": [
      "<nemreader.nem_objects.NEMData object at 0x7fe976b3d640>\n",
      "CPU times: user 60.3 ms, sys: 637 μs, total: 60.9 ms\n",
      "Wall time: 73.3 ms\n"
     ]
    }
   ],
   "source": [
    "%%time\n",
    "from nemreader import NEMFile\n",
    "m = NEMFile('examples/unzipped/Example_NEM12_actual_interval.csv')\n",
    "nemdata = m.nem_data()\n",
    "print(nemdata)"
   ]
  },
  {
   "cell_type": "code",
   "execution_count": 4,
   "metadata": {},
   "outputs": [
    {
     "name": "stdout",
     "output_type": "stream",
     "text": [
      "HeaderRecord(version_header='NEM12', creation_date=datetime.datetime(2004, 5, 1, 11, 35), from_participant='MDA1', to_participant='Ret1', file_name='examples/unzipped/Example_NEM12_actual_interval.csv', assumed=False)\n"
     ]
    }
   ],
   "source": [
    "print(nemdata.header)\n",
    "# HeaderRecord(version_header='NEM12', creation_date=datetime.datetime(2004, 4, 20, 13, 0), from_participant='MDA1', to_participant='Ret1')\n"
   ]
  },
  {
   "cell_type": "code",
   "execution_count": 5,
   "metadata": {},
   "outputs": [
    {
     "name": "stdout",
     "output_type": "stream",
     "text": [
      "{'VABD000163': {'E1': [], 'Q1': []}}\n"
     ]
    }
   ],
   "source": [
    "print(nemdata.transactions)\n",
    "# {'VABD000163': {'E1': [], 'Q1': []}}"
   ]
  },
  {
   "cell_type": "code",
   "execution_count": 6,
   "metadata": {},
   "outputs": [
    {
     "name": "stdout",
     "output_type": "stream",
     "text": [
      "           nmi suffix      serno             t_start               t_end  \\\n",
      "0   VABD000163     E1  METSER123 2004-02-01 00:00:00 2004-02-01 00:30:00   \n",
      "1   VABD000163     E1  METSER123 2004-02-01 00:30:00 2004-02-01 01:00:00   \n",
      "2   VABD000163     E1  METSER123 2004-02-01 01:00:00 2004-02-01 01:30:00   \n",
      "3   VABD000163     E1  METSER123 2004-02-01 01:30:00 2004-02-01 02:00:00   \n",
      "4   VABD000163     E1  METSER123 2004-02-01 02:00:00 2004-02-01 02:30:00   \n",
      "..         ...    ...        ...                 ...                 ...   \n",
      "43  VABD000163     Q1  METSER123 2004-02-01 21:30:00 2004-02-01 22:00:00   \n",
      "44  VABD000163     Q1  METSER123 2004-02-01 22:00:00 2004-02-01 22:30:00   \n",
      "45  VABD000163     Q1  METSER123 2004-02-01 22:30:00 2004-02-01 23:00:00   \n",
      "46  VABD000163     Q1  METSER123 2004-02-01 23:00:00 2004-02-01 23:30:00   \n",
      "47  VABD000163     Q1  METSER123 2004-02-01 23:30:00 2004-02-02 00:00:00   \n",
      "\n",
      "    value quality evt_code evt_desc  \n",
      "0   1.111       A                    \n",
      "1   1.111       A                    \n",
      "2   1.111       A                    \n",
      "3   1.111       A                    \n",
      "4   1.111       A                    \n",
      "..    ...     ...      ...      ...  \n",
      "43  2.222       A                    \n",
      "44  2.222       A                    \n",
      "45  2.222       A                    \n",
      "46  2.222       A                    \n",
      "47  2.222       A                    \n",
      "\n",
      "[96 rows x 9 columns]\n",
      "CPU times: user 17.4 ms, sys: 0 ns, total: 17.4 ms\n",
      "Wall time: 31.2 ms\n"
     ]
    }
   ],
   "source": [
    "%%time\n",
    "from nemreader import NEMFile\n",
    "m = NEMFile('examples/unzipped/Example_NEM12_actual_interval.csv')\n",
    "df = m.get_data_frame()\n",
    "print(df)"
   ]
  },
  {
   "cell_type": "code",
   "execution_count": 7,
   "metadata": {},
   "outputs": [
    {
     "name": "stdout",
     "output_type": "stream",
     "text": [
      "           nmi suffix      serno             t_start               t_end  \\\n",
      "0   VABD000163     E1  METSER123 2004-02-01 00:00:00 2004-02-01 00:30:00   \n",
      "1   VABD000163     E1  METSER123 2004-02-01 00:30:00 2004-02-01 01:00:00   \n",
      "2   VABD000163     E1  METSER123 2004-02-01 01:00:00 2004-02-01 01:30:00   \n",
      "3   VABD000163     E1  METSER123 2004-02-01 01:30:00 2004-02-01 02:00:00   \n",
      "4   VABD000163     E1  METSER123 2004-02-01 02:00:00 2004-02-01 02:30:00   \n",
      "..         ...    ...        ...                 ...                 ...   \n",
      "43  VABD000163     Q1  METSER123 2004-02-01 21:30:00 2004-02-01 22:00:00   \n",
      "44  VABD000163     Q1  METSER123 2004-02-01 22:00:00 2004-02-01 22:30:00   \n",
      "45  VABD000163     Q1  METSER123 2004-02-01 22:30:00 2004-02-01 23:00:00   \n",
      "46  VABD000163     Q1  METSER123 2004-02-01 23:00:00 2004-02-01 23:30:00   \n",
      "47  VABD000163     Q1  METSER123 2004-02-01 23:30:00 2004-02-02 00:00:00   \n",
      "\n",
      "    value quality evt_code evt_desc  \n",
      "0   1.111       A                    \n",
      "1   1.111       A                    \n",
      "2   1.111       A                    \n",
      "3   1.111       A                    \n",
      "4   1.111       A                    \n",
      "..    ...     ...      ...      ...  \n",
      "43  2.222       A                    \n",
      "44  2.222       A                    \n",
      "45  2.222       A                    \n",
      "46  2.222       A                    \n",
      "47  2.222       A                    \n",
      "\n",
      "[96 rows x 9 columns]\n",
      "CPU times: user 11.9 ms, sys: 0 ns, total: 11.9 ms\n",
      "Wall time: 10.6 ms\n"
     ]
    }
   ],
   "source": [
    "%%time\n",
    "from nemreader import NEMFile\n",
    "m = NEMFile('examples/unzipped/Example_NEM12_actual_interval.csv')\n",
    "cf = m.get_data_frame()\n",
    "print(cf)"
   ]
  },
  {
   "cell_type": "code",
   "execution_count": 8,
   "metadata": {},
   "outputs": [
    {
     "name": "stdout",
     "output_type": "stream",
     "text": [
      "           nmi             t_start               t_end     E1     Q1 quality  \\\n",
      "0   VABD000163 2004-02-01 00:00:00 2004-02-01 00:30:00  1.111  2.222       A   \n",
      "1   VABD000163 2004-02-01 00:30:00 2004-02-01 01:00:00  1.111  2.222       A   \n",
      "2   VABD000163 2004-02-01 01:00:00 2004-02-01 01:30:00  1.111  2.222       A   \n",
      "3   VABD000163 2004-02-01 01:30:00 2004-02-01 02:00:00  1.111  2.222       A   \n",
      "4   VABD000163 2004-02-01 02:00:00 2004-02-01 02:30:00  1.111  2.222       A   \n",
      "5   VABD000163 2004-02-01 02:30:00 2004-02-01 03:00:00  1.111  2.222       A   \n",
      "6   VABD000163 2004-02-01 03:00:00 2004-02-01 03:30:00  1.111  2.222       A   \n",
      "7   VABD000163 2004-02-01 03:30:00 2004-02-01 04:00:00  1.111  2.222       A   \n",
      "8   VABD000163 2004-02-01 04:00:00 2004-02-01 04:30:00  1.111  2.222       A   \n",
      "9   VABD000163 2004-02-01 04:30:00 2004-02-01 05:00:00  1.111  2.222       A   \n",
      "10  VABD000163 2004-02-01 05:00:00 2004-02-01 05:30:00  1.111  2.222       A   \n",
      "11  VABD000163 2004-02-01 05:30:00 2004-02-01 06:00:00  1.111  2.222       A   \n",
      "12  VABD000163 2004-02-01 06:00:00 2004-02-01 06:30:00  1.111  2.222       A   \n",
      "13  VABD000163 2004-02-01 06:30:00 2004-02-01 07:00:00  1.111  2.222       A   \n",
      "14  VABD000163 2004-02-01 07:00:00 2004-02-01 07:30:00  1.111  2.222       A   \n",
      "15  VABD000163 2004-02-01 07:30:00 2004-02-01 08:00:00  1.111  2.222       A   \n",
      "16  VABD000163 2004-02-01 08:00:00 2004-02-01 08:30:00  1.111  2.222       A   \n",
      "17  VABD000163 2004-02-01 08:30:00 2004-02-01 09:00:00  1.111  2.222       A   \n",
      "18  VABD000163 2004-02-01 09:00:00 2004-02-01 09:30:00  1.111  2.222       A   \n",
      "19  VABD000163 2004-02-01 09:30:00 2004-02-01 10:00:00  1.111  2.222       A   \n",
      "20  VABD000163 2004-02-01 10:00:00 2004-02-01 10:30:00  1.111  2.222       A   \n",
      "21  VABD000163 2004-02-01 10:30:00 2004-02-01 11:00:00  1.111  2.222       A   \n",
      "22  VABD000163 2004-02-01 11:00:00 2004-02-01 11:30:00  1.111  2.222       A   \n",
      "23  VABD000163 2004-02-01 11:30:00 2004-02-01 12:00:00  1.111  2.222       A   \n",
      "24  VABD000163 2004-02-01 12:00:00 2004-02-01 12:30:00  1.111  2.222       A   \n",
      "25  VABD000163 2004-02-01 12:30:00 2004-02-01 13:00:00  1.111  2.222       A   \n",
      "26  VABD000163 2004-02-01 13:00:00 2004-02-01 13:30:00  1.111  2.222       A   \n",
      "27  VABD000163 2004-02-01 13:30:00 2004-02-01 14:00:00  1.111  2.222       A   \n",
      "28  VABD000163 2004-02-01 14:00:00 2004-02-01 14:30:00  1.111  2.222       A   \n",
      "29  VABD000163 2004-02-01 14:30:00 2004-02-01 15:00:00  1.111  2.222       A   \n",
      "30  VABD000163 2004-02-01 15:00:00 2004-02-01 15:30:00  1.111  2.222       A   \n",
      "31  VABD000163 2004-02-01 15:30:00 2004-02-01 16:00:00  1.111  2.222       A   \n",
      "32  VABD000163 2004-02-01 16:00:00 2004-02-01 16:30:00  1.111  2.222       A   \n",
      "33  VABD000163 2004-02-01 16:30:00 2004-02-01 17:00:00  1.111  2.222       A   \n",
      "34  VABD000163 2004-02-01 17:00:00 2004-02-01 17:30:00  1.111  2.222       A   \n",
      "35  VABD000163 2004-02-01 17:30:00 2004-02-01 18:00:00  1.111  2.222       A   \n",
      "36  VABD000163 2004-02-01 18:00:00 2004-02-01 18:30:00  1.111  2.222       A   \n",
      "37  VABD000163 2004-02-01 18:30:00 2004-02-01 19:00:00  1.111  2.222       A   \n",
      "38  VABD000163 2004-02-01 19:00:00 2004-02-01 19:30:00  1.111  2.222       A   \n",
      "39  VABD000163 2004-02-01 19:30:00 2004-02-01 20:00:00  1.111  2.222       A   \n",
      "40  VABD000163 2004-02-01 20:00:00 2004-02-01 20:30:00  1.111  2.222       A   \n",
      "41  VABD000163 2004-02-01 20:30:00 2004-02-01 21:00:00  1.111  2.222       A   \n",
      "42  VABD000163 2004-02-01 21:00:00 2004-02-01 21:30:00  1.111  2.222       A   \n",
      "43  VABD000163 2004-02-01 21:30:00 2004-02-01 22:00:00  1.111  2.222       A   \n",
      "44  VABD000163 2004-02-01 22:00:00 2004-02-01 22:30:00  1.111  2.222       A   \n",
      "45  VABD000163 2004-02-01 22:30:00 2004-02-01 23:00:00  1.111  2.222       A   \n",
      "46  VABD000163 2004-02-01 23:00:00 2004-02-01 23:30:00  1.111  2.222       A   \n",
      "47  VABD000163 2004-02-01 23:30:00 2004-02-02 00:00:00  1.111  2.222       A   \n",
      "\n",
      "   evt_code evt_desc  \n",
      "0                     \n",
      "1                     \n",
      "2                     \n",
      "3                     \n",
      "4                     \n",
      "5                     \n",
      "6                     \n",
      "7                     \n",
      "8                     \n",
      "9                     \n",
      "10                    \n",
      "11                    \n",
      "12                    \n",
      "13                    \n",
      "14                    \n",
      "15                    \n",
      "16                    \n",
      "17                    \n",
      "18                    \n",
      "19                    \n",
      "20                    \n",
      "21                    \n",
      "22                    \n",
      "23                    \n",
      "24                    \n",
      "25                    \n",
      "26                    \n",
      "27                    \n",
      "28                    \n",
      "29                    \n",
      "30                    \n",
      "31                    \n",
      "32                    \n",
      "33                    \n",
      "34                    \n",
      "35                    \n",
      "36                    \n",
      "37                    \n",
      "38                    \n",
      "39                    \n",
      "40                    \n",
      "41                    \n",
      "42                    \n",
      "43                    \n",
      "44                    \n",
      "45                    \n",
      "46                    \n",
      "47                    \n"
     ]
    }
   ],
   "source": [
    "df = m.get_pivot_data_frame()\n",
    "print(df)"
   ]
  },
  {
   "cell_type": "code",
   "execution_count": 9,
   "metadata": {},
   "outputs": [
    {
     "name": "stdout",
     "output_type": "stream",
     "text": [
      "           nmi             t_start               t_end     E1     Q1 quality  \\\n",
      "0   VABD000163 2004-02-01 00:00:00 2004-02-01 00:30:00  1.111  2.222       A   \n",
      "1   VABD000163 2004-02-01 00:30:00 2004-02-01 01:00:00  1.111  2.222       A   \n",
      "2   VABD000163 2004-02-01 01:00:00 2004-02-01 01:30:00  1.111  2.222       A   \n",
      "3   VABD000163 2004-02-01 01:30:00 2004-02-01 02:00:00  1.111  2.222       A   \n",
      "4   VABD000163 2004-02-01 02:00:00 2004-02-01 02:30:00  1.111  2.222       A   \n",
      "5   VABD000163 2004-02-01 02:30:00 2004-02-01 03:00:00  1.111  2.222       A   \n",
      "6   VABD000163 2004-02-01 03:00:00 2004-02-01 03:30:00  1.111  2.222       A   \n",
      "7   VABD000163 2004-02-01 03:30:00 2004-02-01 04:00:00  1.111  2.222       A   \n",
      "8   VABD000163 2004-02-01 04:00:00 2004-02-01 04:30:00  1.111  2.222       A   \n",
      "9   VABD000163 2004-02-01 04:30:00 2004-02-01 05:00:00  1.111  2.222       A   \n",
      "10  VABD000163 2004-02-01 05:00:00 2004-02-01 05:30:00  1.111  2.222       A   \n",
      "11  VABD000163 2004-02-01 05:30:00 2004-02-01 06:00:00  1.111  2.222       A   \n",
      "12  VABD000163 2004-02-01 06:00:00 2004-02-01 06:30:00  1.111  2.222       A   \n",
      "13  VABD000163 2004-02-01 06:30:00 2004-02-01 07:00:00  1.111  2.222       A   \n",
      "14  VABD000163 2004-02-01 07:00:00 2004-02-01 07:30:00  1.111  2.222       A   \n",
      "15  VABD000163 2004-02-01 07:30:00 2004-02-01 08:00:00  1.111  2.222       A   \n",
      "16  VABD000163 2004-02-01 08:00:00 2004-02-01 08:30:00  1.111  2.222       A   \n",
      "17  VABD000163 2004-02-01 08:30:00 2004-02-01 09:00:00  1.111  2.222       A   \n",
      "18  VABD000163 2004-02-01 09:00:00 2004-02-01 09:30:00  1.111  2.222       A   \n",
      "19  VABD000163 2004-02-01 09:30:00 2004-02-01 10:00:00  1.111  2.222       A   \n",
      "20  VABD000163 2004-02-01 10:00:00 2004-02-01 10:30:00  1.111  2.222       A   \n",
      "21  VABD000163 2004-02-01 10:30:00 2004-02-01 11:00:00  1.111  2.222       A   \n",
      "22  VABD000163 2004-02-01 11:00:00 2004-02-01 11:30:00  1.111  2.222       A   \n",
      "23  VABD000163 2004-02-01 11:30:00 2004-02-01 12:00:00  1.111  2.222       A   \n",
      "24  VABD000163 2004-02-01 12:00:00 2004-02-01 12:30:00  1.111  2.222       A   \n",
      "25  VABD000163 2004-02-01 12:30:00 2004-02-01 13:00:00  1.111  2.222       A   \n",
      "26  VABD000163 2004-02-01 13:00:00 2004-02-01 13:30:00  1.111  2.222       A   \n",
      "27  VABD000163 2004-02-01 13:30:00 2004-02-01 14:00:00  1.111  2.222       A   \n",
      "28  VABD000163 2004-02-01 14:00:00 2004-02-01 14:30:00  1.111  2.222       A   \n",
      "29  VABD000163 2004-02-01 14:30:00 2004-02-01 15:00:00  1.111  2.222       A   \n",
      "30  VABD000163 2004-02-01 15:00:00 2004-02-01 15:30:00  1.111  2.222       A   \n",
      "31  VABD000163 2004-02-01 15:30:00 2004-02-01 16:00:00  1.111  2.222       A   \n",
      "32  VABD000163 2004-02-01 16:00:00 2004-02-01 16:30:00  1.111  2.222       A   \n",
      "33  VABD000163 2004-02-01 16:30:00 2004-02-01 17:00:00  1.111  2.222       A   \n",
      "34  VABD000163 2004-02-01 17:00:00 2004-02-01 17:30:00  1.111  2.222       A   \n",
      "35  VABD000163 2004-02-01 17:30:00 2004-02-01 18:00:00  1.111  2.222       A   \n",
      "36  VABD000163 2004-02-01 18:00:00 2004-02-01 18:30:00  1.111  2.222       A   \n",
      "37  VABD000163 2004-02-01 18:30:00 2004-02-01 19:00:00  1.111  2.222       A   \n",
      "38  VABD000163 2004-02-01 19:00:00 2004-02-01 19:30:00  1.111  2.222       A   \n",
      "39  VABD000163 2004-02-01 19:30:00 2004-02-01 20:00:00  1.111  2.222       A   \n",
      "40  VABD000163 2004-02-01 20:00:00 2004-02-01 20:30:00  1.111  2.222       A   \n",
      "41  VABD000163 2004-02-01 20:30:00 2004-02-01 21:00:00  1.111  2.222       A   \n",
      "42  VABD000163 2004-02-01 21:00:00 2004-02-01 21:30:00  1.111  2.222       A   \n",
      "43  VABD000163 2004-02-01 21:30:00 2004-02-01 22:00:00  1.111  2.222       A   \n",
      "44  VABD000163 2004-02-01 22:00:00 2004-02-01 22:30:00  1.111  2.222       A   \n",
      "45  VABD000163 2004-02-01 22:30:00 2004-02-01 23:00:00  1.111  2.222       A   \n",
      "46  VABD000163 2004-02-01 23:00:00 2004-02-01 23:30:00  1.111  2.222       A   \n",
      "47  VABD000163 2004-02-01 23:30:00 2004-02-02 00:00:00  1.111  2.222       A   \n",
      "\n",
      "   evt_code evt_desc  \n",
      "0                     \n",
      "1                     \n",
      "2                     \n",
      "3                     \n",
      "4                     \n",
      "5                     \n",
      "6                     \n",
      "7                     \n",
      "8                     \n",
      "9                     \n",
      "10                    \n",
      "11                    \n",
      "12                    \n",
      "13                    \n",
      "14                    \n",
      "15                    \n",
      "16                    \n",
      "17                    \n",
      "18                    \n",
      "19                    \n",
      "20                    \n",
      "21                    \n",
      "22                    \n",
      "23                    \n",
      "24                    \n",
      "25                    \n",
      "26                    \n",
      "27                    \n",
      "28                    \n",
      "29                    \n",
      "30                    \n",
      "31                    \n",
      "32                    \n",
      "33                    \n",
      "34                    \n",
      "35                    \n",
      "36                    \n",
      "37                    \n",
      "38                    \n",
      "39                    \n",
      "40                    \n",
      "41                    \n",
      "42                    \n",
      "43                    \n",
      "44                    \n",
      "45                    \n",
      "46                    \n",
      "47                    \n"
     ]
    }
   ],
   "source": [
    "df = m.get_pivot_data_frame()\n",
    "print(df)"
   ]
  },
  {
   "cell_type": "code",
   "execution_count": 10,
   "metadata": {},
   "outputs": [
    {
     "data": {
      "image/png": "[encoded data removed]",
      "text/plain": [
       "<Figure size 640x480 with 1 Axes>"
      ]
     },
     "metadata": {},
     "output_type": "display_data"
    },
    {
     "name": "stdout",
     "output_type": "stream",
     "text": [
      "CPU times: user 693 ms, sys: 48 ms, total: 741 ms\n",
      "Wall time: 1.62 s\n"
     ]
    }
   ],
   "source": [
    "%%time\n",
    "import matplotlib.pyplot as plt\n",
    "from nemreader import output_as_data_frames\n",
    "\n",
    "# Setup Pandas DataFrame\n",
    "dfs = output_as_data_frames(\"examples/nem12/NEM12#000000000000002#CNRGYMDP#NEMMCO.zip\")\n",
    "nmi, df = dfs[0] # Return data for first NMI in file\n",
    "df.set_index(\"t_start\", inplace=True)\n",
    "\n",
    "# Chart time of day profile\n",
    "hourly = df.groupby([(df.index.hour)]).sum(numeric_only=True)\n",
    "plot = hourly.plot(title=nmi, kind=\"bar\", y=[\"E1\"])\n",
    "plt.show()"
   ]
  },
  {
   "cell_type": "code",
   "execution_count": 11,
   "metadata": {},
   "outputs": [
    {
     "data": {
      "image/png": "[encoded data removed]",
      "text/plain": [
       "<Figure size 640x480 with 1 Axes>"
      ]
     },
     "metadata": {},
     "output_type": "display_data"
    },
    {
     "name": "stdout",
     "output_type": "stream",
     "text": [
      "CPU times: user 226 ms, sys: 372 μs, total: 227 ms\n",
      "Wall time: 217 ms\n"
     ]
    }
   ],
   "source": [
    "%%time\n",
    "import matplotlib.pyplot as plt\n",
    "from nemreader import output_as_cudf_data_frames\n",
    "\n",
    "# Setup Pandas DataFrame\n",
    "dfs = output_as_data_frames(\"examples/nem12/NEM12#000000000000002#CNRGYMDP#NEMMCO.zip\")\n",
    "nmi, df = dfs[0] # Return data for first NMI in file\n",
    "df.set_index(\"t_start\", inplace=True)\n",
    "\n",
    "# Chart time of day profile\n",
    "hourly = df.groupby([(df.index.hour)]).sum(numeric_only=True)\n",
    "plot = hourly.plot(title=nmi, kind=\"bar\", y=[\"E1\"])\n",
    "plt.show()"
   ]
  },
  {
   "cell_type": "code",
   "execution_count": 13,
   "metadata": {},
   "outputs": [
    {
     "name": "stdout",
     "output_type": "stream",
     "text": [
      "10.6 as a percentage of 31.2 is 33.97%\n"
     ]
    }
   ],
   "source": [
    "numerator = 10.6\n",
    "denominator = 31.2\n",
    "\n",
    "# Calculate percentage\n",
    "percentage = (numerator / denominator) * 100\n",
    "\n",
    "# Output result\n",
    "print(f\"{numerator} as a percentage of {denominator} is {percentage:.2f}%\")"
   ]
  },
  {
   "cell_type": "code",
   "execution_count": 14,
   "metadata": {},
   "outputs": [
    {
     "name": "stdout",
     "output_type": "stream",
     "text": [
      "217 as a percentage of 1620 is 13.40%\n"
     ]
    }
   ],
   "source": [
    "\n",
    "numerator = 217\n",
    "denominator = 1620\n",
    "\n",
    "# Calculate percentage\n",
    "percentage = (numerator / denominator) * 100\n",
    "\n",
    "# Output result\n",
    "print(f\"{numerator} as a percentage of {denominator} is {percentage:.2f}%\")\n"
   ]
  },
  {
   "cell_type": "code",
   "execution_count": null,
   "metadata": {},
   "outputs": [],
   "source": []
  }
 ],
 "metadata": {
  "kernelspec": {
   "display_name": "nem-reader",
   "language": "python",
   "name": "python3"
  },
  "language_info": {
   "codemirror_mode": {
    "name": "ipython",
    "version": 3
   },
   "file_extension": ".py",
   "mimetype": "text/x-python",
   "name": "python",
   "nbconvert_exporter": "python",
   "pygments_lexer": "ipython3",
   "version": "3.12.8"
  }
 },
 "nbformat": 4,
 "nbformat_minor": 2
}
